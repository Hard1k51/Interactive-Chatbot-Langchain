{
 "cells": [
  {
   "cell_type": "code",
   "execution_count": 4,
   "id": "21dec6c4",
   "metadata": {},
   "outputs": [
    {
     "data": {
      "application/vnd.jupyter.widget-view+json": {
       "model_id": "b2cb6eef111d44d8ad9abe380a773d93",
       "version_major": 2,
       "version_minor": 0
      },
      "text/plain": [
       "Text(value='', description='Prompt:')"
      ]
     },
     "metadata": {},
     "output_type": "display_data"
    },
    {
     "name": "stderr",
     "output_type": "stream",
     "text": [
      "C:\\Users\\hardi\\AppData\\Local\\Temp\\ipykernel_13984\\172693619.py:62: DeprecationWarning: on_submit is deprecated. Instead, set the .continuous_update attribute to False and observe the value changing with: mywidget.observe(callback, 'value').\n",
      "  prompt_input.on_submit(on_submit)\n"
     ]
    },
    {
     "name": "stdout",
     "output_type": "stream",
     "text": [
      "User: what is cricket\n",
      "Assistant: Agent stopped due to iteration limit or time limit.\n",
      "Please enter a prompt.\n",
      "Please enter a prompt.\n",
      "User: what is cricket\n",
      "Assistant: Agent stopped due to iteration limit or time limit.\n",
      "User: what is cricket\n",
      "Assistant: Cricket is a bat-and-ball game played between two teams of eleven players on a field, at the centre of which is a 22-yard (20-metre; 66-foot) pitch with a wicket at each.\n"
     ]
    }
   ],
   "source": [
    "from langchain_groq import ChatGroq\n",
    "from langchain_community.utilities import ArxivAPIWrapper, WikipediaAPIWrapper\n",
    "from langchain_community.tools import ArxivQueryRun, WikipediaQueryRun, DuckDuckGoSearchRun\n",
    "from langchain.agents import initialize_agent, AgentType\n",
    "from dotenv import load_dotenv\n",
    "import ipywidgets as widgets\n",
    "from IPython.display import display\n",
    "import os\n",
    "load_dotenv()\n",
    "\n",
    "os.environ['GROQ_API_KEY'] = \"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\"\n",
    "\n",
    "llm = ChatGroq(groq_api_key=os.environ['GROQ_API_KEY'], model_name=\"Llama3-8b-8192\", streaming=True)\n",
    "\n",
    "arxiv_wrapper = ArxivAPIWrapper(top_k_results=1, doc_content_chars_max=200)\n",
    "arxiv = ArxivQueryRun(api_wrapper=arxiv_wrapper)\n",
    "\n",
    "api_wrapper = WikipediaAPIWrapper(top_k_results=1, doc_content_chars_max=200)\n",
    "wiki = WikipediaQueryRun(api_wrapper=api_wrapper)\n",
    "\n",
    "search = DuckDuckGoSearchRun(name=\"Search\")\n",
    "\n",
    "messages = [{\"role\": \"assistant\", \"content\": \"Hi, I'm a chatbot who can search the web and provide information. How can I help you?\"}]\n",
    "\n",
    "prompt_input = widgets.Text(description=\"Prompt:\")\n",
    "\n",
    "display(prompt_input)\n",
    "\n",
    "def on_submit(_):\n",
    "    prompt = prompt_input.value\n",
    "    if not prompt:\n",
    "        print(\"Please enter a prompt.\")\n",
    "        return\n",
    "    \n",
    "    messages.append({\"role\": \"user\", \"content\": prompt})\n",
    "    print(f\"User: {prompt}\")\n",
    "\n",
    "    tools = [search, arxiv, wiki]\n",
    "    search_agent = initialize_agent(tools, llm, agent=AgentType.ZERO_SHOT_REACT_DESCRIPTION)\n",
    "\n",
    "    response = search_agent.run(messages)\n",
    "    \n",
    "    messages.append({\"role\": \"assistant\", \"content\": response})\n",
    "    print(f\"Assistant: {response}\")\n",
    "    prompt_input.value = \"\"\n",
    "\n",
    "prompt_input.on_submit(on_submit)\n"
   ]
  },
  {
   "cell_type": "code",
   "execution_count": null,
   "id": "c1fe3181",
   "metadata": {},
   "outputs": [],
   "source": []
  },
  {
   "cell_type": "code",
   "execution_count": null,
   "id": "d3d7e86e",
   "metadata": {},
   "outputs": [],
   "source": []
  },
  {
   "cell_type": "code",
   "execution_count": null,
   "id": "df3e0d6f",
   "metadata": {},
   "outputs": [],
   "source": []
  }
 ],
 "metadata": {
  "kernelspec": {
   "display_name": "Python 3 (ipykernel)",
   "language": "python",
   "name": "python3"
  },
  "language_info": {
   "codemirror_mode": {
    "name": "ipython",
    "version": 3
   },
   "file_extension": ".py",
   "mimetype": "text/x-python",
   "name": "python",
   "nbconvert_exporter": "python",
   "pygments_lexer": "ipython3",
   "version": "3.11.5"
  }
 },
 "nbformat": 4,
 "nbformat_minor": 5
}
